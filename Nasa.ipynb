{
 "cells": [
  {
   "cell_type": "markdown",
   "id": "63e33b97",
   "metadata": {},
   "source": [
    "## Práctica NASA"
   ]
  },
  {
   "cell_type": "markdown",
   "id": "c61ecb8f",
   "metadata": {},
   "source": [
    "**Leemos el fichero**"
   ]
  },
  {
   "cell_type": "code",
   "execution_count": 1,
   "id": "2f5aca87",
   "metadata": {},
   "outputs": [],
   "source": [
    "fichero = open('C:\\\\Users\\\\nora.hafidi\\\\Desktop\\\\Big Data\\\\NASA\\\\NASA_access_log_Aug95\\\\access_log_Aug95')\n",
    "nasa_ag = fichero.readlines()\n",
    "fichero.close()"
   ]
  },
  {
   "cell_type": "markdown",
   "id": "02f9bb5e",
   "metadata": {},
   "source": [
    "**Creamos la expresion regular**"
   ]
  },
  {
   "cell_type": "code",
   "execution_count": 2,
   "id": "0469775d",
   "metadata": {},
   "outputs": [],
   "source": [
    "expresion = '(.*)[\\s-]{4}\\s\\[(\\d\\d)\\/.*\\/1995:(\\d\\d):(\\d\\d):(\\d\\d).*\\s\\\"\\s?([A-Z]*)\\s(\\/\\S*).*\\\"\\s?(\\d\\d\\d)\\s(\\d*)'"
   ]
  },
  {
   "cell_type": "code",
   "execution_count": null,
   "id": "caa0c6dd",
   "metadata": {},
   "outputs": [],
   "source": [
    "expresion_hive = '(.*)[\\\\s-]{4}\\\\s\\\\[(\\\\d\\\\d)\\\\/.*\\\\/1995:(\\\\d\\\\d):(\\\\d\\\\d):(\\\\d\\\\d).*\\\\s\\\\\"\\\\s?([A-Z]*)\\\\s(\\\\/\\\\S*).*\\\\\"\\\\s?(\\\\d\\\\d\\\\d)\\\\s(\\\\d*)'"
   ]
  },
  {
   "cell_type": "code",
   "execution_count": 3,
   "id": "19503ea1",
   "metadata": {},
   "outputs": [],
   "source": [
    "import re\n",
    "exp_fila=[]\n",
    "for elem in nasa_ag:\n",
    "    exp_fila.append(re.findall(expresion, elem))"
   ]
  },
  {
   "cell_type": "code",
   "execution_count": 4,
   "id": "394ee838",
   "metadata": {},
   "outputs": [
    {
     "name": "stdout",
     "output_type": "stream",
     "text": [
      "1569898\n"
     ]
    }
   ],
   "source": [
    "print(len(exp_fila))"
   ]
  },
  {
   "cell_type": "code",
   "execution_count": 16,
   "id": "85765d9c",
   "metadata": {
    "scrolled": true
   },
   "outputs": [],
   "source": [
    "i=0\n",
    "errores = 0\n",
    "for elem in exp_fila:\n",
    "    try:\n",
    "        if len(elem[0]) != 9 or elem[0][8].isalpha():\n",
    "            #print(i, elem)\n",
    "            errores+=1\n",
    "        else: pass\n",
    "    except IndexError:\n",
    "        errores+=1\n",
    "        #print(i,elem)\n",
    "    i+=1"
   ]
  },
  {
   "cell_type": "code",
   "execution_count": 18,
   "id": "5464dca2",
   "metadata": {},
   "outputs": [
    {
     "data": {
      "text/plain": [
       "67"
      ]
     },
     "execution_count": 18,
     "metadata": {},
     "output_type": "execute_result"
    }
   ],
   "source": [
    "errores"
   ]
  },
  {
   "cell_type": "code",
   "execution_count": 10,
   "id": "416c53b0",
   "metadata": {},
   "outputs": [],
   "source": [
    "d = {}\n",
    "for elem in exp_fila:\n",
    "    try:\n",
    "        if elem[0][7] in d:\n",
    "            d[elem[0][7]] += 1\n",
    "        else: d[elem[0][7]] = 1\n",
    "    except IndexError: pass"
   ]
  },
  {
   "cell_type": "code",
   "execution_count": 11,
   "id": "a22de70b",
   "metadata": {},
   "outputs": [
    {
     "data": {
      "text/plain": [
       "{'200': 1398988,\n",
       " '304': 134146,\n",
       " '302': 26444,\n",
       " '404': 10052,\n",
       " '403': 171,\n",
       " '500': 3,\n",
       " '501': 27}"
      ]
     },
     "execution_count": 11,
     "metadata": {},
     "output_type": "execute_result"
    }
   ],
   "source": [
    "d"
   ]
  },
  {
   "cell_type": "markdown",
   "id": "6e177560",
   "metadata": {},
   "source": [
    "67 errores de un million está más que bien"
   ]
  },
  {
   "cell_type": "markdown",
   "id": "49cb64af",
   "metadata": {},
   "source": [
    "**Creamos la tabla en Hive**"
   ]
  },
  {
   "cell_type": "markdown",
   "id": "58e203e1",
   "metadata": {},
   "source": [
    "Movemos los datos desde la MV hasta HDFS con \n",
    "```hadoop fs -put /home/cloudera/Desktop/Datasets/nasa/NASA_access_log_Aug95/access_log_Aug95 /user/cloudera/nasa_ag/agosto95``` \n",
    "```hadoop fs -put /home/cloudera/Desktop/Datasets/nasa/NASA_access_log_Jul95/access_log_Jul95 /user/cloudera/nasa_jul/julio95``` y creamos una tabla externa con argumento location para no perder los datos. Luego la guardamos en formato parquet para poder utilizarla con impala."
   ]
  },
  {
   "cell_type": "markdown",
   "id": "144e3f50",
   "metadata": {},
   "source": [
    "\n"
   ]
  },
  {
   "cell_type": "markdown",
   "id": "5d4be060",
   "metadata": {},
   "source": [
    "agosto\n",
    "\n",
    "```create external table aug95(host string, day string, hours string, minutes string, seconds string, request string, resource string, http_status_code int, size int) row format serde 'org.apache.hadoop.hive.serde2.RegexSerDe' with serdeproperties (\"input.regex\" = '(.*)[\\\\s-]{4}\\\\s\\\\[(\\\\d\\\\d)\\\\/.*\\\\/1995:(\\\\d\\\\d):(\\\\d\\\\d):(\\\\d\\\\d).*\\\\s\\\\\"\\\\s?([A-Z]*)\\\\s(\\\\/\\\\S*).*\\\\\"\\\\s?(\\\\d\\\\d\\\\d)\\\\s(\\\\d*)') location '/user/cloudera/nasa_ag/';```\n",
    "\n",
    "```create table aug95_prima(host string, day string, hours string, minutes string, seconds string, request string, resource string, http_status_code int, size int) stored as parquet;```\n",
    "\n",
    "```insert into table aug95_prima select * from aug95;```\n",
    "\n",
    "julio\n",
    "\n",
    "```create external table jul95(host string, day string, hours string, minutes string, seconds string, request string, resource string, http_status_code int, size int) row format serde 'org.apache.hadoop.hive.serde2.RegexSerDe' with serdeproperties ('input.regex' = '(.*)[\\\\s-]{4}\\\\s\\\\[(\\\\d\\\\d)\\\\/.*\\\\/1995:(\\\\d\\\\d):(\\\\d\\\\d):(\\\\d\\\\d).*\\\\s\\\\\"\\\\s?([A-Z]*)\\\\s(\\\\/\\\\S*).*\\\\\"\\\\s?(\\\\d\\\\d\\\\d)\\\\s(\\\\d*)', 'serialization.null.format' = '') location '/user/cloudera/nasa_jul/';```\n",
    "\n",
    "```create table jul95_prima(host string, day string, hours string, minutes string, seconds string, request string, resource string, http_status_code int, size int) stored as parquet;```\n",
    "\n",
    "```insert into table jul95_prima select * from jul95;```"
   ]
  },
  {
   "cell_type": "markdown",
   "id": "a9b7504f",
   "metadata": {},
   "source": [
    "\n"
   ]
  },
  {
   "cell_type": "markdown",
   "id": "9d4153f8",
   "metadata": {},
   "source": [
    "Probamos un un ```select * from aug95 limit 5;``` y ```select * from aug95_prima limit 5;``` y vemos que parece que funcione bien"
   ]
  },
  {
   "cell_type": "markdown",
   "id": "30de63d5",
   "metadata": {},
   "source": [
    "Veamos si los campos están buien o hay errores. Para ellos nos pasamos a impala que es bastante más rápido.\n",
    "\n",
    "Hacemos un ```invalidate metadata``` en el impala-shell y ya podemos utilizar la base de datos y las tablas creadas en hive."
   ]
  },
  {
   "cell_type": "markdown",
   "id": "27a83258",
   "metadata": {},
   "source": [
    "1. nulos: ```select count(*) from aug95 where variable is null;``` da 14.178 para todas las variables de la tabla\n",
    "2. agrupar por request: ```select request from aug95_prima group by request;``` no hay errores aquí\n",
    "3. numero de filas: ```select count(*) from aug95_prima;``` da 1.569.898 filas. **Veamos si coincide con las filas del documento.**"
   ]
  },
  {
   "cell_type": "code",
   "execution_count": 69,
   "id": "35f8cf60",
   "metadata": {},
   "outputs": [],
   "source": [
    "fichero_l = open('C:\\\\Users\\\\nora.hafidi\\\\Desktop\\\\Big Data\\\\NASA\\\\NASA_access_log_Aug95\\\\access_log_Aug95')\n",
    "nasa_ag_lines = fichero_l.readlines()\n",
    "fichero_l.close()"
   ]
  },
  {
   "cell_type": "code",
   "execution_count": 70,
   "id": "3fe6f703",
   "metadata": {},
   "outputs": [
    {
     "name": "stdout",
     "output_type": "stream",
     "text": [
      "1569898\n"
     ]
    }
   ],
   "source": [
    "print(len(nasa_ag_lines))"
   ]
  },
  {
   "cell_type": "markdown",
   "id": "712b05cf",
   "metadata": {},
   "source": [
    "\n"
   ]
  },
  {
   "cell_type": "markdown",
   "id": "96b6bb63",
   "metadata": {},
   "source": [
    "Lo mismo con julio\n",
    "\n",
    "1. nulos: Hay 16.830 nulos de cada columna. 16.000 de un millon no es significativo.\n",
    "2. agrupar por request: ```select request from jul95_prima group by request;``` no hay errores aquí\n",
    "3. numero de filas: ```select count(*) from jul95_prima;``` da 1.891.715 filas. **Veamos si coincide con las filas del documento.**"
   ]
  },
  {
   "cell_type": "code",
   "execution_count": 97,
   "id": "1658cd44",
   "metadata": {},
   "outputs": [],
   "source": [
    "fichero_jul = open('C:\\\\Users\\\\nora.hafidi\\\\Desktop\\\\Big Data\\\\NASA\\\\NASA_access_log_Jul95\\\\access_log_Jul95', encoding='cp850')\n",
    "nasa_jul = fichero_jul.readlines()\n",
    "fichero_jul.close()"
   ]
  },
  {
   "cell_type": "code",
   "execution_count": 98,
   "id": "281a27c1",
   "metadata": {},
   "outputs": [
    {
     "name": "stdout",
     "output_type": "stream",
     "text": [
      "1891715\n"
     ]
    }
   ],
   "source": [
    "print(len(nasa_jul))"
   ]
  },
  {
   "cell_type": "markdown",
   "id": "1648af66",
   "metadata": {},
   "source": [
    "\n"
   ]
  },
  {
   "cell_type": "markdown",
   "id": "c0b263f1",
   "metadata": {},
   "source": [
    "### Consultas"
   ]
  },
  {
   "cell_type": "markdown",
   "id": "e3fb4d95",
   "metadata": {},
   "source": [
    "1. ¿Cuáles son los distintos protocolos web utilizados? Agrúpalos.\n",
    "2. ¿Cuáles son los códigos de estado más comunes en la web? Agrúpalos y ordénalos para ver cuál es el más común.\n",
    "3. ¿Y los métodos de petición (verbos) más utilizados?\n",
    "4. ¿Qué recurso tuvo la mayor transferencia de bytes de la página web?\n",
    "5. Además, queremos saber que recurso de nuestra web es el que más tráfico recibe. Es decir, el recurso con más registros en nuestro log.\n",
    "5. ¿Qué días la web recibió más tráfico?\n",
    "6. ¿Cuáles son los hosts son los más frecuentes?\n",
    "7. ¿A qué horas se produce el mayor número de tráfico en la web?\n",
    "8. ¿Cuál es el número de errores 404 que ha habido cada día?"
   ]
  },
  {
   "cell_type": "markdown",
   "id": "3ff5037a",
   "metadata": {},
   "source": [
    "### Agosto"
   ]
  },
  {
   "cell_type": "markdown",
   "id": "e321c52a",
   "metadata": {},
   "source": [
    "**¿Cuáles son los distintos protocolos web utilizados? Agrúpalos.**\n",
    "\n",
    "Aquí he utilizado una expresión regular diferente que me leía los protocolos, pero como en las instrucciones indica que todos los protocolos son HTTP/1.0 he decidido no leerlo para añadir 3.000 filas en la tabla."
   ]
  },
  {
   "cell_type": "markdown",
   "id": "9727797d",
   "metadata": {},
   "source": [
    "```select protocol from aug95_prima group by protocol;```"
   ]
  },
  {
   "cell_type": "markdown",
   "id": "53918579",
   "metadata": {},
   "source": [
    "\n",
    "| protocol | count(*) |\n",
    "----------|----------\n",
    "| NULL     | 16830    |\n",
    "| HTTP/1.0 | 1553068  |\n",
    "\n"
   ]
  },
  {
   "cell_type": "markdown",
   "id": "c16c140c",
   "metadata": {},
   "source": [
    "**¿Cuáles son los códigos de estado más comunes en la web? Agrúpalos y ordénalos para ver cuál es el más común.**"
   ]
  },
  {
   "cell_type": "markdown",
   "id": "3d7970b6",
   "metadata": {},
   "source": [
    "```select http_status_code, count(*) as total from aug95_prima group by http_status_code order by total desc limit 1;```"
   ]
  },
  {
   "cell_type": "markdown",
   "id": "af322999",
   "metadata": {},
   "source": [
    "| http_status_code | total   |\n",
    "|------------------|---------|\n",
    "| 200              | 1398910 |\n"
   ]
  },
  {
   "cell_type": "markdown",
   "id": "66992415",
   "metadata": {},
   "source": [
    "**¿Y los métodos de petición (verbos) más utilizados?**"
   ]
  },
  {
   "cell_type": "markdown",
   "id": "a11c88a4",
   "metadata": {},
   "source": [
    "```select request, count(*) as total from aug95_prima group by request order by total desc limit 1;```"
   ]
  },
  {
   "cell_type": "markdown",
   "id": "b13e2a65",
   "metadata": {},
   "source": [
    "| request | total   |\n",
    "|---------|---------|\n",
    "| GET     | 1551681 |\n"
   ]
  },
  {
   "cell_type": "markdown",
   "id": "a5a0ec32",
   "metadata": {},
   "source": [
    "**¿Qué recurso tuvo la mayor transferencia de bytes de la página web?**"
   ]
  },
  {
   "cell_type": "markdown",
   "id": "ce0b4dbe",
   "metadata": {},
   "source": [
    "```select * from aug95_prima where resource is not null order by resource desc limit 1;```"
   ]
  },
  {
   "cell_type": "markdown",
   "id": "ede8fb51",
   "metadata": {},
   "source": [
    "| host                 | day | hours | minutes | seconds | request | resource             | http_status_code | size  |\n",
    "|----------------------|-----|-------|---------|---------|---------|----------------------|------------------|-------|\n",
    "| tide01.microsoft.com | 03  | 15    | 44      | 30      | GET     | /~downs/launchup.gif | 200              | 53409 |\n",
    "\n"
   ]
  },
  {
   "cell_type": "markdown",
   "id": "904bc049",
   "metadata": {},
   "source": [
    "**Además, queremos saber qué recurso de nuestra web es el que más tráfico recibe. Es decir, el recurso con más registros en nuestro log.**"
   ]
  },
  {
   "cell_type": "markdown",
   "id": "5a1d7a7c",
   "metadata": {},
   "source": [
    "```select * from aug95_prima where size is not null order by size desc limit 1;```"
   ]
  },
  {
   "cell_type": "markdown",
   "id": "91ab0d4c",
   "metadata": {},
   "source": [
    "| host           | day | hours | minutes | seconds | request | resource  | http_status_code | size    |\n",
    "|----------------|-----|-------|---------|---------|---------|----|------------------|---------|\n",
    "| 163.205.156.16 | 03  | 15    | 51      | 23      | GET     | /statistics/1995/Jul/Jul95_reverse_domains.html | 200              | 3421948 |\n",
    "\n"
   ]
  },
  {
   "cell_type": "markdown",
   "id": "e62b759c",
   "metadata": {},
   "source": [
    "**¿Qué días la web recibió más tráfico?**"
   ]
  },
  {
   "cell_type": "markdown",
   "id": "5644b411",
   "metadata": {},
   "source": [
    "```select day, count(*) as total from aug95_prima where day is not null group by day order by total desc limit 3;```"
   ]
  },
  {
   "cell_type": "markdown",
   "id": "cb6cec63",
   "metadata": {},
   "source": [
    "| day | total |\n",
    "|-----|-------|\n",
    "| 31  | 88942 |\n",
    "| 30  | 79404 |\n",
    "| 29  | 67244 |\n"
   ]
  },
  {
   "cell_type": "markdown",
   "id": "d89c1714",
   "metadata": {},
   "source": [
    "**¿Cuáles son los hosts más frecuentes?**"
   ]
  },
  {
   "cell_type": "markdown",
   "id": "cb10361e",
   "metadata": {},
   "source": [
    "```select host, count(*) as total from aug95_prima where host is not null group by host order by total desc limit 5;```"
   ]
  },
  {
   "cell_type": "markdown",
   "id": "66b63083",
   "metadata": {},
   "source": [
    "| host                 | total |\n",
    "|----------------------|-------|\n",
    "| edams.ksc.nasa.gov   | 6515  |\n",
    "| piweba4y.prodigy.com | 4797  |\n",
    "| 163.206.89.4         | 4769  |\n",
    "| piweba5y.prodigy.com | 4564  |\n",
    "| piweba3y.prodigy.com | 4354  |"
   ]
  },
  {
   "cell_type": "markdown",
   "id": "2166421a",
   "metadata": {},
   "source": [
    "**¿A qué horas se produce el mayor número de tráfico en la web?**"
   ]
  },
  {
   "cell_type": "markdown",
   "id": "f8ba78cd",
   "metadata": {},
   "source": [
    "```select hours, sum(size) as traf from aug95_prima where hours is not null group by hours order by traf desc limit 5```"
   ]
  },
  {
   "cell_type": "markdown",
   "id": "5ce80cff",
   "metadata": {},
   "source": [
    "| hours | traf       |\n",
    "|-------|------------|\n",
    "| 13    | 1797569666 |\n",
    "| 15    | 1762625783 |\n",
    "| 12    | 1757290922 |\n",
    "| 16    | 1725490692 |\n",
    "| 14    | 1636102102 |\n"
   ]
  },
  {
   "cell_type": "markdown",
   "id": "7d59eb23",
   "metadata": {},
   "source": [
    "**¿Cuál es el número de errores 404 que ha habido cada día?**"
   ]
  },
  {
   "cell_type": "markdown",
   "id": "a59c78f6",
   "metadata": {},
   "source": [
    "```select day, count(*) from aug95_prima where http_status_code = '404' group by day```"
   ]
  },
  {
   "cell_type": "markdown",
   "id": "39636e21",
   "metadata": {},
   "source": [
    "### Julio"
   ]
  },
  {
   "cell_type": "markdown",
   "id": "e6791681",
   "metadata": {},
   "source": [
    "**¿Cuáles son los distintos protocolos web utilizados? Agrúpalos.**"
   ]
  },
  {
   "cell_type": "code",
   "execution_count": null,
   "id": "a77791b9",
   "metadata": {},
   "outputs": [],
   "source": []
  },
  {
   "cell_type": "markdown",
   "id": "53f9d20b",
   "metadata": {},
   "source": [
    "**¿Cuáles son los códigos de estado más comunes en la web? Agrúpalos y ordénalos para ver cuál es el más común.**"
   ]
  },
  {
   "cell_type": "markdown",
   "id": "3d122b1a",
   "metadata": {},
   "source": [
    "```select http_status_code, count(*) as total from jul95_prima group by http_status_code order by total desc limit 1;```"
   ]
  },
  {
   "cell_type": "markdown",
   "id": "15223c4e",
   "metadata": {},
   "source": [
    "| http_status_code | total   |\n",
    "|------------------|---------|\n",
    "| 200              | 1701451 |\n"
   ]
  },
  {
   "cell_type": "markdown",
   "id": "b8d56c62",
   "metadata": {},
   "source": [
    "**¿Y los métodos de petición (verbos) más utilizados?**"
   ]
  },
  {
   "cell_type": "markdown",
   "id": "f44c0c59",
   "metadata": {},
   "source": [
    "```select request, count(*) as total from aug95_prima group by request order by total desc limit 1;```"
   ]
  },
  {
   "cell_type": "code",
   "execution_count": null,
   "id": "89ee6e0c",
   "metadata": {},
   "outputs": [],
   "source": []
  },
  {
   "cell_type": "markdown",
   "id": "4a785212",
   "metadata": {},
   "source": [
    "**¿Qué recurso tuvo la mayor transferencia de bytes de la página web?**"
   ]
  },
  {
   "cell_type": "code",
   "execution_count": null,
   "id": "e0e315b8",
   "metadata": {},
   "outputs": [],
   "source": []
  },
  {
   "cell_type": "markdown",
   "id": "d0dd1a72",
   "metadata": {},
   "source": [
    "**Además, queremos saber qué recurso de nuestra web es el que más tráfico recibe. Es decir, el recurso con más registros en nuestro log.**"
   ]
  },
  {
   "cell_type": "code",
   "execution_count": null,
   "id": "df903841",
   "metadata": {},
   "outputs": [],
   "source": []
  },
  {
   "cell_type": "markdown",
   "id": "bcc34473",
   "metadata": {},
   "source": [
    "**¿Qué días la web recibió más tráfico?**"
   ]
  },
  {
   "cell_type": "code",
   "execution_count": null,
   "id": "66cbc345",
   "metadata": {},
   "outputs": [],
   "source": []
  },
  {
   "cell_type": "markdown",
   "id": "8992e568",
   "metadata": {},
   "source": [
    "**¿Cuáles son los hosts más frecuentes?**"
   ]
  },
  {
   "cell_type": "code",
   "execution_count": null,
   "id": "1861efc5",
   "metadata": {},
   "outputs": [],
   "source": []
  },
  {
   "cell_type": "markdown",
   "id": "76c9486c",
   "metadata": {},
   "source": [
    "**¿A qué horas se produce el mayor número de tráfico en la web?**"
   ]
  },
  {
   "cell_type": "code",
   "execution_count": null,
   "id": "727edf06",
   "metadata": {},
   "outputs": [],
   "source": []
  },
  {
   "cell_type": "markdown",
   "id": "3f955750",
   "metadata": {},
   "source": [
    "**¿Cuál es el número de errores 404 que ha habido cada día?**"
   ]
  },
  {
   "cell_type": "code",
   "execution_count": null,
   "id": "f5eb423b",
   "metadata": {},
   "outputs": [],
   "source": []
  },
  {
   "cell_type": "code",
   "execution_count": null,
   "id": "937e3bf5",
   "metadata": {},
   "outputs": [],
   "source": []
  }
 ],
 "metadata": {
  "kernelspec": {
   "display_name": "Python 3 (ipykernel)",
   "language": "python",
   "name": "python3"
  },
  "language_info": {
   "codemirror_mode": {
    "name": "ipython",
    "version": 3
   },
   "file_extension": ".py",
   "mimetype": "text/x-python",
   "name": "python",
   "nbconvert_exporter": "python",
   "pygments_lexer": "ipython3",
   "version": "3.9.7"
  }
 },
 "nbformat": 4,
 "nbformat_minor": 5
}
