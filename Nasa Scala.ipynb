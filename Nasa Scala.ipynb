{
 "cells": [
  {
   "cell_type": "markdown",
   "id": "27665db0",
   "metadata": {},
   "source": [
    "## Agosto"
   ]
  },
  {
   "cell_type": "code",
   "execution_count": 25,
   "id": "ff7f2c4a",
   "metadata": {
    "scrolled": true
   },
   "outputs": [
    {
     "data": {
      "text/plain": [
       "ag95: org.apache.spark.sql.DataFrame = [value: string]\r\n"
      ]
     },
     "execution_count": 25,
     "metadata": {},
     "output_type": "execute_result"
    }
   ],
   "source": [
    "val ag95 = spark.read.text(\"C:/Users/nora.hafidi/Desktop/Big Data/NASA/NASA_access_log_Aug95/access_log_Aug95\")"
   ]
  },
  {
   "cell_type": "code",
   "execution_count": 2,
   "id": "d617e2a7",
   "metadata": {},
   "outputs": [
    {
     "name": "stdout",
     "output_type": "stream",
     "text": [
      "+--------------------------------------------------------------------------------------------------------------------------+\n",
      "|value                                                                                                                     |\n",
      "+--------------------------------------------------------------------------------------------------------------------------+\n",
      "|in24.inetnebr.com - - [01/Aug/1995:00:00:01 -0400] \"GET /shuttle/missions/sts-68/news/sts-68-mcc-05.txt HTTP/1.0\" 200 1839|\n",
      "|uplherc.upl.com - - [01/Aug/1995:00:00:07 -0400] \"GET / HTTP/1.0\" 304 0                                                   |\n",
      "|uplherc.upl.com - - [01/Aug/1995:00:00:08 -0400] \"GET /images/ksclogo-medium.gif HTTP/1.0\" 304 0                          |\n",
      "+--------------------------------------------------------------------------------------------------------------------------+\n",
      "only showing top 3 rows\n",
      "\n"
     ]
    }
   ],
   "source": [
    "ag95.show(3, false)"
   ]
  },
  {
   "cell_type": "code",
   "execution_count": 26,
   "id": "eec02154",
   "metadata": {
    "scrolled": true
   },
   "outputs": [
    {
     "data": {
      "text/plain": [
       "expresion: String = (.*)[\\s-]{4}\\s\\[(\\d\\d)\\/.*\\/1995:(\\d\\d):(\\d\\d):(\\d\\d).*\\s\\\"\\s?([A-Z]*)\\s(\\/\\S*).*?(HTTP.*)?\\\"\\s?(\\d\\d\\d)\\s(\\d*)\r\n"
      ]
     },
     "execution_count": 26,
     "metadata": {},
     "output_type": "execute_result"
    }
   ],
   "source": [
    "val expresion = \"\"\"(.*)[\\s-]{4}\\s\\[(\\d\\d)\\/.*\\/1995:(\\d\\d):(\\d\\d):(\\d\\d).*\\s\\\"\\s?([A-Z]*)\\s(\\/\\S*).*?(HTTP.*)?\\\"\\s?(\\d\\d\\d)\\s(\\d*)\"\"\""
   ]
  },
  {
   "cell_type": "code",
   "execution_count": 27,
   "id": "7a5d9f14",
   "metadata": {},
   "outputs": [
    {
     "data": {
      "text/plain": [
       "ag95_prima: org.apache.spark.sql.DataFrame = [host: string, day: string ... 8 more fields]\r\n"
      ]
     },
     "execution_count": 27,
     "metadata": {},
     "output_type": "execute_result"
    }
   ],
   "source": [
    "val ag95_prima = ag95\n",
    "    .select(regexp_extract($\"value\",expresion,1).as(\"host\"),\n",
    "            regexp_extract($\"value\",expresion,2).as(\"day\"),\n",
    "            regexp_extract($\"value\",expresion,3).as(\"hours\"),\n",
    "            regexp_extract($\"value\",expresion,4).as(\"minutes\"),\n",
    "            regexp_extract($\"value\",expresion,5).as(\"seconds\"),\n",
    "            regexp_extract($\"value\",expresion,6).as(\"request\"),\n",
    "            regexp_extract($\"value\",expresion,7).as(\"resource\"),\n",
    "            regexp_extract($\"value\",expresion,8).as(\"protocol\"),\n",
    "            regexp_extract($\"value\",expresion,9).cast(\"int\").as(\"http_status_code\"),\n",
    "            regexp_extract($\"value\",expresion,10).cast(\"int\").as(\"size\"))"
   ]
  },
  {
   "cell_type": "code",
   "execution_count": 28,
   "id": "07e4442e",
   "metadata": {},
   "outputs": [
    {
     "name": "stdout",
     "output_type": "stream",
     "text": [
      "+-----------------+---+-----+-------+-------+-------+-----------------------------------------------+--------+----------------+----+\n",
      "|host             |day|hours|minutes|seconds|request|resource                                       |protocol|http_status_code|size|\n",
      "+-----------------+---+-----+-------+-------+-------+-----------------------------------------------+--------+----------------+----+\n",
      "|in24.inetnebr.com|01 |00   |00     |01     |GET    |/shuttle/missions/sts-68/news/sts-68-mcc-05.txt|HTTP/1.0|200             |1839|\n",
      "|uplherc.upl.com  |01 |00   |00     |07     |GET    |/                                              |HTTP/1.0|304             |0   |\n",
      "|uplherc.upl.com  |01 |00   |00     |08     |GET    |/images/ksclogo-medium.gif                     |HTTP/1.0|304             |0   |\n",
      "+-----------------+---+-----+-------+-------+-------+-----------------------------------------------+--------+----------------+----+\n",
      "only showing top 3 rows\n",
      "\n"
     ]
    }
   ],
   "source": [
    "ag95_prima.show(3, false)"
   ]
  },
  {
   "cell_type": "code",
   "execution_count": 7,
   "id": "13f1eca4",
   "metadata": {},
   "outputs": [
    {
     "data": {
      "text/plain": [
       "nulls: Long = 67\r\n"
      ]
     },
     "execution_count": 7,
     "metadata": {},
     "output_type": "execute_result"
    }
   ],
   "source": [
    "val nulls_h = ag95_prima\n",
    ".select(\"http_status_code\")\n",
    ".where($\"http_status_code\" .isNull)\n",
    ".count()"
   ]
  },
  {
   "cell_type": "code",
   "execution_count": 18,
   "id": "0f350058",
   "metadata": {},
   "outputs": [
    {
     "name": "stdout",
     "output_type": "stream",
     "text": [
      "+-------------------------------------------------+-------+\n",
      "|protocol                                         |count  |\n",
      "+-------------------------------------------------+-------+\n",
      "|HTTP/1.0From:  <berend@blazemonger.pc.cc.cmu.edu>|624    |\n",
      "|HTTP/1.0                                         |113    |\n",
      "|HTTP/V1.0                                        |163    |\n",
      "|HTTP/1.0                                         |1567056|\n",
      "+-------------------------------------------------+-------+\n",
      "\n"
     ]
    },
    {
     "data": {
      "text/plain": [
       "cons1: org.apache.spark.sql.DataFrame = [protocol: string, count: bigint]\r\n"
      ]
     },
     "execution_count": 18,
     "metadata": {},
     "output_type": "execute_result"
    }
   ],
   "source": [
    "val cons1 = ag95_prima\n",
    ".select(\"protocol\")\n",
    ".where($\"protocol\" !== \"\")\n",
    ".groupBy(\"protocol\")\n",
    ".count()\n",
    "cons1.show(false)"
   ]
  },
  {
   "cell_type": "code",
   "execution_count": 96,
   "id": "8e3aabe4",
   "metadata": {
    "scrolled": true
   },
   "outputs": [
    {
     "name": "stdout",
     "output_type": "stream",
     "text": [
      "+----------------+-------+\n",
      "|http_status_code|  count|\n",
      "+----------------+-------+\n",
      "|             200|1398988|\n",
      "|             304| 134146|\n",
      "|             302|  26444|\n",
      "|             404|  10052|\n",
      "|             403|    171|\n",
      "|            null|     67|\n",
      "|             501|     27|\n",
      "|             500|      3|\n",
      "+----------------+-------+\n",
      "\n"
     ]
    },
    {
     "data": {
      "text/plain": [
       "cons2: org.apache.spark.sql.Dataset[org.apache.spark.sql.Row] = [http_status_code: int, count: bigint]\r\n"
      ]
     },
     "execution_count": 96,
     "metadata": {},
     "output_type": "execute_result"
    }
   ],
   "source": [
    "val cons2 = ag95_prima\n",
    ".select(\"http_status_code\")\n",
    ".groupBy(\"http_status_code\")\n",
    ".count()\n",
    ".orderBy(desc(\"count\"))\n",
    "cons2.show()"
   ]
  },
  {
   "cell_type": "code",
   "execution_count": 95,
   "id": "ea9ae032",
   "metadata": {},
   "outputs": [
    {
     "name": "stdout",
     "output_type": "stream",
     "text": [
      "+-------+-------+\n",
      "|request|  count|\n",
      "+-------+-------+\n",
      "|    GET|1565755|\n",
      "|   HEAD|   3965|\n",
      "|   POST|    111|\n",
      "|       |     67|\n",
      "+-------+-------+\n",
      "\n"
     ]
    },
    {
     "data": {
      "text/plain": [
       "cons3: org.apache.spark.sql.Dataset[org.apache.spark.sql.Row] = [request: string, count: bigint]\r\n"
      ]
     },
     "execution_count": 95,
     "metadata": {},
     "output_type": "execute_result"
    }
   ],
   "source": [
    "val cons3 = ag95_prima\n",
    ".select(\"request\")\n",
    ".groupBy(\"request\")\n",
    ".count()\n",
    ".orderBy(desc(\"count\"))\n",
    "cons3.show()"
   ]
  },
  {
   "cell_type": "code",
   "execution_count": 94,
   "id": "b5904049",
   "metadata": {},
   "outputs": [
    {
     "name": "stdout",
     "output_type": "stream",
     "text": [
      "+--------------------------+-----+\n",
      "|resource                  |count|\n",
      "+--------------------------+-----+\n",
      "|/images/NASA-logosmall.gif|97410|\n",
      "+--------------------------+-----+\n",
      "only showing top 1 row\n",
      "\n"
     ]
    },
    {
     "data": {
      "text/plain": [
       "cons4: org.apache.spark.sql.Dataset[org.apache.spark.sql.Row] = [resource: string, count: bigint]\r\n"
      ]
     },
     "execution_count": 94,
     "metadata": {},
     "output_type": "execute_result"
    }
   ],
   "source": [
    "val cons4 = ag95_prima\n",
    ".groupBy(\"resource\")\n",
    ".count()\n",
    ".orderBy(desc(\"count\"))\n",
    "cons4.show(1, false)"
   ]
  },
  {
   "cell_type": "code",
   "execution_count": 93,
   "id": "24c39b5e",
   "metadata": {},
   "outputs": [
    {
     "name": "stdout",
     "output_type": "stream",
     "text": [
      "+--------------+---+-----+-------+-------+-------+-----------------------------------------------+----------------+-------+\n",
      "|host          |day|hours|minutes|seconds|request|resource                                       |http_status_code|size   |\n",
      "+--------------+---+-----+-------+-------+-------+-----------------------------------------------+----------------+-------+\n",
      "|163.205.156.16|03 |15   |51     |23     |GET    |/statistics/1995/Jul/Jul95_reverse_domains.html|200             |3421948|\n",
      "+--------------+---+-----+-------+-------+-------+-----------------------------------------------+----------------+-------+\n",
      "only showing top 1 row\n",
      "\n"
     ]
    },
    {
     "data": {
      "text/plain": [
       "cons5: org.apache.spark.sql.Dataset[org.apache.spark.sql.Row] = [host: string, day: string ... 7 more fields]\r\n"
      ]
     },
     "execution_count": 93,
     "metadata": {},
     "output_type": "execute_result"
    }
   ],
   "source": [
    "val cons5 = ag95_prima\n",
    ".orderBy(desc(\"size\"))\n",
    "cons5.show(1, false)"
   ]
  },
  {
   "cell_type": "code",
   "execution_count": 92,
   "id": "a2e09bbc",
   "metadata": {},
   "outputs": [
    {
     "name": "stdout",
     "output_type": "stream",
     "text": [
      "+---+-----+\n",
      "|day|count|\n",
      "+---+-----+\n",
      "|31 |90121|\n",
      "|30 |80640|\n",
      "|29 |67988|\n",
      "+---+-----+\n",
      "only showing top 3 rows\n",
      "\n"
     ]
    },
    {
     "data": {
      "text/plain": [
       "cons6: org.apache.spark.sql.Dataset[org.apache.spark.sql.Row] = [day: string, count: bigint]\r\n"
      ]
     },
     "execution_count": 92,
     "metadata": {},
     "output_type": "execute_result"
    }
   ],
   "source": [
    "val cons6 = ag95_prima\n",
    ".select(\"day\")\n",
    ".groupBy(\"day\")\n",
    ".count()\n",
    ".orderBy(desc(\"count\"))\n",
    "cons6.show(3, false)"
   ]
  },
  {
   "cell_type": "code",
   "execution_count": 91,
   "id": "b6f87e41",
   "metadata": {},
   "outputs": [
    {
     "name": "stdout",
     "output_type": "stream",
     "text": [
      "+--------------------+-----+\n",
      "|host                |count|\n",
      "+--------------------+-----+\n",
      "|edams.ksc.nasa.gov  |6530 |\n",
      "|piweba4y.prodigy.com|4846 |\n",
      "|163.206.89.4        |4791 |\n",
      "|piweba5y.prodigy.com|4607 |\n",
      "|piweba3y.prodigy.com|4416 |\n",
      "+--------------------+-----+\n",
      "only showing top 5 rows\n",
      "\n"
     ]
    },
    {
     "data": {
      "text/plain": [
       "cons7: org.apache.spark.sql.Dataset[org.apache.spark.sql.Row] = [host: string, count: bigint]\r\n"
      ]
     },
     "execution_count": 91,
     "metadata": {},
     "output_type": "execute_result"
    }
   ],
   "source": [
    "val cons7 = ag95_prima\n",
    ".select(\"host\")\n",
    ".groupBy(\"host\")\n",
    ".count()\n",
    ".orderBy(desc(\"count\"))\n",
    "cons7.show(5, false)"
   ]
  },
  {
   "cell_type": "code",
   "execution_count": 90,
   "id": "6c051188",
   "metadata": {},
   "outputs": [
    {
     "name": "stdout",
     "output_type": "stream",
     "text": [
      "+-----+------+\n",
      "|hours|count |\n",
      "+-----+------+\n",
      "|15   |109461|\n",
      "|12   |105143|\n",
      "|13   |104535|\n",
      "|14   |101392|\n",
      "|16   |99527 |\n",
      "+-----+------+\n",
      "only showing top 5 rows\n",
      "\n"
     ]
    },
    {
     "data": {
      "text/plain": [
       "cons8: org.apache.spark.sql.Dataset[org.apache.spark.sql.Row] = [hours: string, count: bigint]\r\n"
      ]
     },
     "execution_count": 90,
     "metadata": {},
     "output_type": "execute_result"
    }
   ],
   "source": [
    "val cons8 = ag95_prima\n",
    ".select(\"hours\")\n",
    ".groupBy(\"hours\")\n",
    ".count()\n",
    ".orderBy(desc(\"count\"))\n",
    "cons8.show(5, false)"
   ]
  },
  {
   "cell_type": "code",
   "execution_count": 97,
   "id": "6db1da1f",
   "metadata": {},
   "outputs": [
    {
     "name": "stdout",
     "output_type": "stream",
     "text": [
      "+---+-----+\n",
      "|day|count|\n",
      "+---+-----+\n",
      "| 01|  243|\n",
      "| 03|  304|\n",
      "| 04|  344|\n",
      "| 05|  236|\n",
      "| 06|  373|\n",
      "| 07|  537|\n",
      "| 08|  391|\n",
      "| 09|  279|\n",
      "| 10|  315|\n",
      "| 11|  263|\n",
      "| 12|  196|\n",
      "| 13|  216|\n",
      "| 14|  287|\n",
      "| 15|  327|\n",
      "| 16|  259|\n",
      "| 17|  270|\n",
      "| 18|  256|\n",
      "| 19|  208|\n",
      "| 20|  312|\n",
      "| 21|  305|\n",
      "| 22|  288|\n",
      "| 23|  345|\n",
      "| 24|  420|\n",
      "| 25|  415|\n",
      "| 26|  366|\n",
      "| 27|  370|\n",
      "| 28|  410|\n",
      "| 29|  420|\n",
      "| 30|  571|\n",
      "| 31|  526|\n",
      "+---+-----+\n",
      "\n"
     ]
    },
    {
     "data": {
      "text/plain": [
       "cons9: org.apache.spark.sql.Dataset[org.apache.spark.sql.Row] = [day: string, count: bigint]\r\n"
      ]
     },
     "execution_count": 97,
     "metadata": {},
     "output_type": "execute_result"
    }
   ],
   "source": [
    "val cons9 = ag95_prima\n",
    ".select(\"day\")\n",
    ".where($\"http_status_code\" === \"404\")\n",
    ".groupBy(\"day\")\n",
    ".count()\n",
    ".orderBy(\"day\")\n",
    "cons9.show(31)"
   ]
  },
  {
   "cell_type": "markdown",
   "id": "af0c1f74",
   "metadata": {},
   "source": [
    "\n"
   ]
  },
  {
   "cell_type": "markdown",
   "id": "e776271d",
   "metadata": {},
   "source": [
    "## Julio"
   ]
  },
  {
   "cell_type": "code",
   "execution_count": 19,
   "id": "5b473fc6",
   "metadata": {},
   "outputs": [
    {
     "data": {
      "text/plain": [
       "jul95: org.apache.spark.sql.DataFrame = [value: string]\r\n"
      ]
     },
     "execution_count": 19,
     "metadata": {},
     "output_type": "execute_result"
    }
   ],
   "source": [
    "val jul95 = spark.read.text(\"C:/Users/nora.hafidi/Desktop/Big Data/NASA/NASA_access_log_Jul95/access_log_Jul95\")"
   ]
  },
  {
   "cell_type": "code",
   "execution_count": 20,
   "id": "a25ada57",
   "metadata": {},
   "outputs": [
    {
     "name": "stdout",
     "output_type": "stream",
     "text": [
      "+--------------------------------------------------------------------------------------------------------------------+\n",
      "|value                                                                                                               |\n",
      "+--------------------------------------------------------------------------------------------------------------------+\n",
      "|199.72.81.55 - - [01/Jul/1995:00:00:01 -0400] \"GET /history/apollo/ HTTP/1.0\" 200 6245                              |\n",
      "|unicomp6.unicomp.net - - [01/Jul/1995:00:00:06 -0400] \"GET /shuttle/countdown/ HTTP/1.0\" 200 3985                   |\n",
      "|199.120.110.21 - - [01/Jul/1995:00:00:09 -0400] \"GET /shuttle/missions/sts-73/mission-sts-73.html HTTP/1.0\" 200 4085|\n",
      "+--------------------------------------------------------------------------------------------------------------------+\n",
      "only showing top 3 rows\n",
      "\n"
     ]
    }
   ],
   "source": [
    "jul95.show(3, false)"
   ]
  },
  {
   "cell_type": "code",
   "execution_count": 22,
   "id": "b3a42ac5",
   "metadata": {},
   "outputs": [
    {
     "data": {
      "text/plain": [
       "jul95_prima: org.apache.spark.sql.DataFrame = [host: string, day: string ... 8 more fields]\r\n"
      ]
     },
     "execution_count": 22,
     "metadata": {},
     "output_type": "execute_result"
    }
   ],
   "source": [
    "val jul95_prima = jul95\n",
    "    .select(regexp_extract($\"value\",expresion,1).as(\"host\"),\n",
    "            regexp_extract($\"value\",expresion,2).as(\"day\"),\n",
    "            regexp_extract($\"value\",expresion,3).as(\"hours\"),\n",
    "            regexp_extract($\"value\",expresion,4).as(\"minutes\"),\n",
    "            regexp_extract($\"value\",expresion,5).as(\"seconds\"),\n",
    "            regexp_extract($\"value\",expresion,6).as(\"request\"),\n",
    "            regexp_extract($\"value\",expresion,7).as(\"resource\"),\n",
    "            regexp_extract($\"value\",expresion,8).as(\"protocol\"),\n",
    "            regexp_extract($\"value\",expresion,9).cast(\"int\").as(\"http_status_code\"),\n",
    "            regexp_extract($\"value\",expresion,10).cast(\"int\").as(\"size\"))"
   ]
  },
  {
   "cell_type": "code",
   "execution_count": 24,
   "id": "579ae70f",
   "metadata": {},
   "outputs": [
    {
     "name": "stdout",
     "output_type": "stream",
     "text": [
      "+--------------------+---+-----+-------+-------+-------+--------------------------------------------+--------+----------------+----+\n",
      "|host                |day|hours|minutes|seconds|request|resource                                    |protocol|http_status_code|size|\n",
      "+--------------------+---+-----+-------+-------+-------+--------------------------------------------+--------+----------------+----+\n",
      "|199.72.81.55        |01 |00   |00     |01     |GET    |/history/apollo/                            |HTTP/1.0|200             |6245|\n",
      "|unicomp6.unicomp.net|01 |00   |00     |06     |GET    |/shuttle/countdown/                         |HTTP/1.0|200             |3985|\n",
      "|199.120.110.21      |01 |00   |00     |09     |GET    |/shuttle/missions/sts-73/mission-sts-73.html|HTTP/1.0|200             |4085|\n",
      "+--------------------+---+-----+-------+-------+-------+--------------------------------------------+--------+----------------+----+\n",
      "only showing top 3 rows\n",
      "\n"
     ]
    }
   ],
   "source": [
    "jul95_prima.show(3, false)"
   ]
  },
  {
   "cell_type": "code",
   "execution_count": 29,
   "id": "07e4442e",
   "metadata": {},
   "outputs": [
    {
     "data": {
      "text/plain": [
       "nulls_h_j: Long = 13\r\n"
      ]
     },
     "execution_count": 29,
     "metadata": {},
     "output_type": "execute_result"
    }
   ],
   "source": [
    "val nulls_h_j = jul95_prima\n",
    ".select(\"http_status_code\")\n",
    ".where($\"http_status_code\" .isNull)\n",
    ".count()"
   ]
  },
  {
   "cell_type": "code",
   "execution_count": 30,
   "id": "6d029172",
   "metadata": {
    "scrolled": true
   },
   "outputs": [
    {
     "name": "stdout",
     "output_type": "stream",
     "text": [
      "+-------------------------------------------------+-------+\n",
      "|protocol                                         |count  |\n",
      "+-------------------------------------------------+-------+\n",
      "|HTTP/1.0From:  <berend@blazemonger.pc.cc.cmu.edu>|611    |\n",
      "|HTTP/*                                           |13     |\n",
      "|HTTP/1.0                                         |15     |\n",
      "|HTTP/V1.0                                        |116    |\n",
      "|HTTP/1.0                                         |1887956|\n",
      "+-------------------------------------------------+-------+\n",
      "\n"
     ]
    },
    {
     "data": {
      "text/plain": [
       "cons1_j: org.apache.spark.sql.DataFrame = [protocol: string, count: bigint]\r\n"
      ]
     },
     "execution_count": 30,
     "metadata": {},
     "output_type": "execute_result"
    }
   ],
   "source": [
    "val cons1_j = jul95_prima\n",
    ".select(\"protocol\")\n",
    ".where($\"protocol\" !== \"\")\n",
    ".groupBy(\"protocol\")\n",
    ".count()\n",
    "cons1_j.show(false)"
   ]
  },
  {
   "cell_type": "code",
   "execution_count": 31,
   "id": "cd475537",
   "metadata": {},
   "outputs": [
    {
     "name": "stdout",
     "output_type": "stream",
     "text": [
      "+----------------+-------+\n",
      "|http_status_code|  count|\n",
      "+----------------+-------+\n",
      "|             200|1701534|\n",
      "|             304| 132627|\n",
      "|             302|  46571|\n",
      "|             404|  10840|\n",
      "|             500|     62|\n",
      "|             403|     54|\n",
      "|             501|     14|\n",
      "|            null|     13|\n",
      "+----------------+-------+\n",
      "\n"
     ]
    },
    {
     "data": {
      "text/plain": [
       "cons2_j: org.apache.spark.sql.Dataset[org.apache.spark.sql.Row] = [http_status_code: int, count: bigint]\r\n"
      ]
     },
     "execution_count": 31,
     "metadata": {},
     "output_type": "execute_result"
    }
   ],
   "source": [
    "val cons2_j = jul95_prima\n",
    ".select(\"http_status_code\")\n",
    ".groupBy(\"http_status_code\")\n",
    ".count()\n",
    ".orderBy(desc(\"count\"))\n",
    "cons2_j.show()"
   ]
  },
  {
   "cell_type": "code",
   "execution_count": 32,
   "id": "4fd2a347",
   "metadata": {},
   "outputs": [
    {
     "name": "stdout",
     "output_type": "stream",
     "text": [
      "+-------+-------+\n",
      "|request|  count|\n",
      "+-------+-------+\n",
      "|    GET|1887639|\n",
      "|   HEAD|   3952|\n",
      "|   POST|    111|\n",
      "|       |     13|\n",
      "+-------+-------+\n",
      "\n"
     ]
    },
    {
     "data": {
      "text/plain": [
       "cons3_j: org.apache.spark.sql.Dataset[org.apache.spark.sql.Row] = [request: string, count: bigint]\r\n"
      ]
     },
     "execution_count": 32,
     "metadata": {},
     "output_type": "execute_result"
    }
   ],
   "source": [
    "val cons3_j = jul95_prima\n",
    ".select(\"request\")\n",
    ".groupBy(\"request\")\n",
    ".count()\n",
    ".orderBy(desc(\"count\"))\n",
    "cons3_j.show()"
   ]
  },
  {
   "cell_type": "code",
   "execution_count": 33,
   "id": "1e92e07e",
   "metadata": {},
   "outputs": [
    {
     "name": "stdout",
     "output_type": "stream",
     "text": [
      "+--------------------------+------+\n",
      "|resource                  |count |\n",
      "+--------------------------+------+\n",
      "|/images/NASA-logosmall.gif|111388|\n",
      "+--------------------------+------+\n",
      "only showing top 1 row\n",
      "\n"
     ]
    },
    {
     "data": {
      "text/plain": [
       "cons4_j: org.apache.spark.sql.Dataset[org.apache.spark.sql.Row] = [resource: string, count: bigint]\r\n"
      ]
     },
     "execution_count": 33,
     "metadata": {},
     "output_type": "execute_result"
    }
   ],
   "source": [
    "val cons4_j = jul95_prima\n",
    ".groupBy(\"resource\")\n",
    ".count()\n",
    ".orderBy(desc(\"count\"))\n",
    "cons4_j.show(1, false)"
   ]
  },
  {
   "cell_type": "code",
   "execution_count": 34,
   "id": "2c36799e",
   "metadata": {},
   "outputs": [
    {
     "name": "stdout",
     "output_type": "stream",
     "text": [
      "+-----+---+-----+-------+-------+-------+---------------------------------------+--------+----------------+-------+\n",
      "|host |day|hours|minutes|seconds|request|resource                               |protocol|http_status_code|size   |\n",
      "+-----+---+-----+-------+-------+-------+---------------------------------------+--------+----------------+-------+\n",
      "|derec|07 |14   |03     |32     |GET    |/shuttle/countdown/video/livevideo.jpeg|HTTP/1.0|200             |6823936|\n",
      "+-----+---+-----+-------+-------+-------+---------------------------------------+--------+----------------+-------+\n",
      "only showing top 1 row\n",
      "\n"
     ]
    },
    {
     "data": {
      "text/plain": [
       "cons5_j: org.apache.spark.sql.Dataset[org.apache.spark.sql.Row] = [host: string, day: string ... 8 more fields]\r\n"
      ]
     },
     "execution_count": 34,
     "metadata": {},
     "output_type": "execute_result"
    }
   ],
   "source": [
    "val cons5_j = jul95_prima\n",
    ".orderBy(desc(\"size\"))\n",
    "cons5_j.show(1, false)"
   ]
  },
  {
   "cell_type": "code",
   "execution_count": 36,
   "id": "94695422",
   "metadata": {},
   "outputs": [
    {
     "name": "stdout",
     "output_type": "stream",
     "text": [
      "+---+------+\n",
      "|day|count |\n",
      "+---+------+\n",
      "|13 |134202|\n",
      "|06 |100960|\n",
      "|05 |94575 |\n",
      "+---+------+\n",
      "only showing top 3 rows\n",
      "\n"
     ]
    },
    {
     "data": {
      "text/plain": [
       "cons6_j: org.apache.spark.sql.Dataset[org.apache.spark.sql.Row] = [day: string, count: bigint]\r\n"
      ]
     },
     "execution_count": 36,
     "metadata": {},
     "output_type": "execute_result"
    }
   ],
   "source": [
    "val cons6_j = jul95_prima\n",
    ".select(\"day\")\n",
    ".groupBy(\"day\")\n",
    ".count()\n",
    ".orderBy(desc(\"count\"))\n",
    "cons6_j.show(3, false)"
   ]
  },
  {
   "cell_type": "code",
   "execution_count": 37,
   "id": "00ab81f9",
   "metadata": {},
   "outputs": [
    {
     "name": "stdout",
     "output_type": "stream",
     "text": [
      "+--------------------+-----+\n",
      "|host                |count|\n",
      "+--------------------+-----+\n",
      "|piweba3y.prodigy.com|17572|\n",
      "|piweba4y.prodigy.com|11591|\n",
      "|piweba1y.prodigy.com|9868 |\n",
      "|alyssa.prodigy.com  |7852 |\n",
      "|siltb10.orl.mmc.com |7573 |\n",
      "+--------------------+-----+\n",
      "only showing top 5 rows\n",
      "\n"
     ]
    },
    {
     "data": {
      "text/plain": [
       "cons7_j: org.apache.spark.sql.Dataset[org.apache.spark.sql.Row] = [host: string, count: bigint]\r\n"
      ]
     },
     "execution_count": 37,
     "metadata": {},
     "output_type": "execute_result"
    }
   ],
   "source": [
    "val cons7_j = jul95_prima\n",
    ".select(\"host\")\n",
    ".groupBy(\"host\")\n",
    ".count()\n",
    ".orderBy(desc(\"count\"))\n",
    "cons7_j.show(5, false)"
   ]
  },
  {
   "cell_type": "code",
   "execution_count": 38,
   "id": "7cc0ff26",
   "metadata": {},
   "outputs": [
    {
     "name": "stdout",
     "output_type": "stream",
     "text": [
      "+-----+------+\n",
      "|hours|count |\n",
      "+-----+------+\n",
      "|14   |122477|\n",
      "|12   |122085|\n",
      "|15   |121199|\n",
      "|13   |120813|\n",
      "|16   |118036|\n",
      "+-----+------+\n",
      "only showing top 5 rows\n",
      "\n"
     ]
    },
    {
     "data": {
      "text/plain": [
       "cons8_j: org.apache.spark.sql.Dataset[org.apache.spark.sql.Row] = [hours: string, count: bigint]\r\n"
      ]
     },
     "execution_count": 38,
     "metadata": {},
     "output_type": "execute_result"
    }
   ],
   "source": [
    "val cons8_j = jul95_prima\n",
    ".select(\"hours\")\n",
    ".groupBy(\"hours\")\n",
    ".count()\n",
    ".orderBy(desc(\"count\"))\n",
    "cons8_j.show(5, false)"
   ]
  },
  {
   "cell_type": "code",
   "execution_count": 39,
   "id": "467fd8ab",
   "metadata": {},
   "outputs": [
    {
     "name": "stdout",
     "output_type": "stream",
     "text": [
      "+---+-----+\n",
      "|day|count|\n",
      "+---+-----+\n",
      "| 01|  315|\n",
      "| 02|  290|\n",
      "| 03|  474|\n",
      "| 04|  359|\n",
      "| 05|  497|\n",
      "| 06|  640|\n",
      "| 07|  570|\n",
      "| 08|  302|\n",
      "| 09|  348|\n",
      "| 10|  398|\n",
      "| 11|  471|\n",
      "| 12|  470|\n",
      "| 13|  531|\n",
      "| 14|  413|\n",
      "| 15|  254|\n",
      "| 16|  257|\n",
      "| 17|  406|\n",
      "| 18|  465|\n",
      "| 19|  639|\n",
      "| 20|  428|\n",
      "| 21|  334|\n",
      "| 22|  192|\n",
      "| 23|  233|\n",
      "| 24|  328|\n",
      "| 25|  461|\n",
      "| 26|  335|\n",
      "| 27|  336|\n",
      "| 28|   94|\n",
      "+---+-----+\n",
      "\n"
     ]
    },
    {
     "data": {
      "text/plain": [
       "cons9_j: org.apache.spark.sql.Dataset[org.apache.spark.sql.Row] = [day: string, count: bigint]\r\n"
      ]
     },
     "execution_count": 39,
     "metadata": {},
     "output_type": "execute_result"
    }
   ],
   "source": [
    "val cons9_j = jul95_prima\n",
    ".select(\"day\")\n",
    ".where($\"http_status_code\" === \"404\")\n",
    ".groupBy(\"day\")\n",
    ".count()\n",
    ".orderBy(\"day\")\n",
    "cons9_j.show(31)"
   ]
  }
 ],
 "metadata": {
  "kernelspec": {
   "display_name": "spylon-kernel",
   "language": "scala",
   "name": "spylon-kernel"
  },
  "language_info": {
   "codemirror_mode": "text/x-scala",
   "file_extension": ".scala",
   "help_links": [
    {
     "text": "MetaKernel Magics",
     "url": "https://metakernel.readthedocs.io/en/latest/source/README.html"
    }
   ],
   "mimetype": "text/x-scala",
   "name": "scala",
   "pygments_lexer": "scala",
   "version": "0.4.1"
  }
 },
 "nbformat": 4,
 "nbformat_minor": 5
}
