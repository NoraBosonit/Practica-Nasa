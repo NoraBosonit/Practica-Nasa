{
 "cells": [
  {
   "cell_type": "markdown",
   "id": "77c459b3",
   "metadata": {},
   "source": [
    "## Agosto"
   ]
  },
  {
   "cell_type": "code",
   "execution_count": 51,
   "id": "ff7f2c4a",
   "metadata": {
    "scrolled": false
   },
   "outputs": [],
   "source": [
    "ag95 = spark.read.text(\"C:/Users/nora.hafidi/Desktop/Big Data/NASA/NASA_access_log_Aug95/access_log_Aug95\")"
   ]
  },
  {
   "cell_type": "code",
   "execution_count": 15,
   "id": "e096be38",
   "metadata": {},
   "outputs": [
    {
     "name": "stdout",
     "output_type": "stream",
     "text": [
      "+--------------------------------------------------------------------------------------------------------------------------+\n",
      "|value                                                                                                                     |\n",
      "+--------------------------------------------------------------------------------------------------------------------------+\n",
      "|in24.inetnebr.com - - [01/Aug/1995:00:00:01 -0400] \"GET /shuttle/missions/sts-68/news/sts-68-mcc-05.txt HTTP/1.0\" 200 1839|\n",
      "|uplherc.upl.com - - [01/Aug/1995:00:00:07 -0400] \"GET / HTTP/1.0\" 304 0                                                   |\n",
      "|uplherc.upl.com - - [01/Aug/1995:00:00:08 -0400] \"GET /images/ksclogo-medium.gif HTTP/1.0\" 304 0                          |\n",
      "+--------------------------------------------------------------------------------------------------------------------------+\n",
      "only showing top 3 rows\n",
      "\n"
     ]
    }
   ],
   "source": [
    "ag95.show(3, False)"
   ]
  },
  {
   "cell_type": "code",
   "execution_count": 1,
   "id": "10c2947d",
   "metadata": {},
   "outputs": [],
   "source": [
    "expresion = \"\"\"(.*)[\\s-]{4}\\s\\[(\\d\\d)\\/.*\\/1995:(\\d\\d):(\\d\\d):(\\d\\d).*\\s\\\"\\s?([A-Z]*)\\s(\\/\\S*).*?(HTTP.*)?\\\"\\s?(\\d\\d\\d)\\s(\\d*)\"\"\""
   ]
  },
  {
   "cell_type": "code",
   "execution_count": 23,
   "id": "f0fb22ab",
   "metadata": {},
   "outputs": [],
   "source": [
    "from pyspark.sql.functions import regexp_extract\n",
    "ag95_prima = ag95.select(regexp_extract(\"value\", expresion, 1).alias(\"host\"),\n",
    "                         regexp_extract(\"value\", expresion, 2).alias(\"day\"),\n",
    "                         regexp_extract(\"value\", expresion, 3).alias(\"hours\"),\n",
    "                         regexp_extract(\"value\", expresion, 4).alias(\"minutes\"),\n",
    "                         regexp_extract(\"value\", expresion, 5).alias(\"seconds\"),\n",
    "                         regexp_extract(\"value\", expresion, 6).alias(\"request\"),\n",
    "                         regexp_extract(\"value\", expresion, 7).alias(\"resource\"),\n",
    "                         regexp_extract(\"value\", expresion, 8).alias(\"protocol\"),\n",
    "                         regexp_extract(\"value\", expresion, 9).alias(\"http_status_code\"),\n",
    "                         regexp_extract(\"value\", expresion, 10).alias(\"size\"),         \n",
    "                        )"
   ]
  },
  {
   "cell_type": "code",
   "execution_count": 24,
   "id": "c13ff3b5",
   "metadata": {},
   "outputs": [
    {
     "name": "stdout",
     "output_type": "stream",
     "text": [
      "+--------------------+---+-----+-------+-------+-------+--------------------+--------+----------------+-----+\n",
      "|                host|day|hours|minutes|seconds|request|            resource|protocol|http_status_code| size|\n",
      "+--------------------+---+-----+-------+-------+-------+--------------------+--------+----------------+-----+\n",
      "|   in24.inetnebr.com| 01|   00|     00|     01|    GET|/shuttle/missions...|HTTP/1.0|             200| 1839|\n",
      "|     uplherc.upl.com| 01|   00|     00|     07|    GET|                   /|HTTP/1.0|             304|    0|\n",
      "|     uplherc.upl.com| 01|   00|     00|     08|    GET|/images/ksclogo-m...|HTTP/1.0|             304|    0|\n",
      "|     uplherc.upl.com| 01|   00|     00|     08|    GET|/images/MOSAIC-lo...|HTTP/1.0|             304|    0|\n",
      "|     uplherc.upl.com| 01|   00|     00|     08|    GET|/images/USA-logos...|HTTP/1.0|             304|    0|\n",
      "|ix-esc-ca2-07.ix....| 01|   00|     00|     09|    GET|/images/launch-lo...|HTTP/1.0|             200| 1713|\n",
      "|     uplherc.upl.com| 01|   00|     00|     10|    GET|/images/WORLD-log...|HTTP/1.0|             304|    0|\n",
      "|slppp6.intermind.net| 01|   00|     00|     10|    GET|/history/skylab/s...|HTTP/1.0|             200| 1687|\n",
      "|piweba4y.prodigy.com| 01|   00|     00|     10|    GET|/images/launchmed...|HTTP/1.0|             200|11853|\n",
      "|slppp6.intermind.net| 01|   00|     00|     11|    GET|/history/skylab/s...|HTTP/1.0|             200| 9202|\n",
      "|slppp6.intermind.net| 01|   00|     00|     12|    GET|/images/ksclogosm...|HTTP/1.0|             200| 3635|\n",
      "|ix-esc-ca2-07.ix....| 01|   00|     00|     12|    GET|/history/apollo/i...|HTTP/1.0|             200| 1173|\n",
      "|slppp6.intermind.net| 01|   00|     00|     13|    GET|/history/apollo/i...|HTTP/1.0|             200| 3047|\n",
      "|     uplherc.upl.com| 01|   00|     00|     14|    GET|/images/NASA-logo...|HTTP/1.0|             304|    0|\n",
      "|        133.43.96.45| 01|   00|     00|     16|    GET|/shuttle/missions...|HTTP/1.0|             200|10566|\n",
      "|kgtyk4.kj.yamagat...| 01|   00|     00|     17|    GET|                   /|HTTP/1.0|             200| 7280|\n",
      "|kgtyk4.kj.yamagat...| 01|   00|     00|     18|    GET|/images/ksclogo-m...|HTTP/1.0|             200| 5866|\n",
      "|     d0ucr6.fnal.gov| 01|   00|     00|     19|    GET|/history/apollo/a...|HTTP/1.0|             200| 2743|\n",
      "|ix-esc-ca2-07.ix....| 01|   00|     00|     19|    GET|/shuttle/resource...|HTTP/1.0|             200| 6849|\n",
      "|     d0ucr6.fnal.gov| 01|   00|     00|     20|    GET|/history/apollo/a...|HTTP/1.0|             200|14897|\n",
      "+--------------------+---+-----+-------+-------+-------+--------------------+--------+----------------+-----+\n",
      "only showing top 20 rows\n",
      "\n"
     ]
    }
   ],
   "source": [
    "ag95_prima.show()"
   ]
  },
  {
   "cell_type": "code",
   "execution_count": 47,
   "id": "d7c58bbd",
   "metadata": {},
   "outputs": [
    {
     "data": {
      "text/plain": [
       "67"
      ]
     },
     "execution_count": 47,
     "metadata": {},
     "output_type": "execute_result"
    }
   ],
   "source": [
    "nulls_h = (ag95_prima\n",
    ".select(\"http_status_code\")\n",
    ".where(col(\"http_status_code\") == '')\n",
    ".count())\n",
    "nulls_h"
   ]
  },
  {
   "cell_type": "code",
   "execution_count": 40,
   "id": "0f350058",
   "metadata": {},
   "outputs": [
    {
     "name": "stdout",
     "output_type": "stream",
     "text": [
      "+--------------------+-------+\n",
      "|            protocol|  count|\n",
      "+--------------------+-------+\n",
      "|HTTP/1.0From:  <b...|    624|\n",
      "|           HTTP/1.0 |    113|\n",
      "|           HTTP/V1.0|    163|\n",
      "|            HTTP/1.0|1567056|\n",
      "+--------------------+-------+\n",
      "\n"
     ]
    }
   ],
   "source": [
    "cons1 = (ag95_prima\n",
    ".select(\"protocol\")\n",
    ".where(col(\"protocol\") != \"\")\n",
    ".groupBy(\"protocol\")\n",
    ".count())\n",
    "#cons1.show(False)\n",
    "cons1.show()"
   ]
  },
  {
   "cell_type": "code",
   "execution_count": 44,
   "id": "699e96b2",
   "metadata": {},
   "outputs": [
    {
     "name": "stdout",
     "output_type": "stream",
     "text": [
      "+----------------+-------+\n",
      "|http_status_code|  count|\n",
      "+----------------+-------+\n",
      "|             500|      3|\n",
      "|             501|     27|\n",
      "|                |     67|\n",
      "|             403|    171|\n",
      "|             404|  10052|\n",
      "|             302|  26444|\n",
      "|             304| 134146|\n",
      "|             200|1398988|\n",
      "+----------------+-------+\n",
      "\n"
     ]
    }
   ],
   "source": [
    "cons2 = (ag95_prima\n",
    ".select(\"http_status_code\")\n",
    ".groupBy(\"http_status_code\")\n",
    ".count()\n",
    ".orderBy(\"count\", descending=False))\n",
    "cons2.show()"
   ]
  },
  {
   "cell_type": "code",
   "execution_count": 45,
   "id": "310333bb",
   "metadata": {
    "scrolled": true
   },
   "outputs": [
    {
     "name": "stdout",
     "output_type": "stream",
     "text": [
      "+-------+-------+\n",
      "|request|  count|\n",
      "+-------+-------+\n",
      "|       |     67|\n",
      "|   POST|    111|\n",
      "|   HEAD|   3965|\n",
      "|    GET|1565755|\n",
      "+-------+-------+\n",
      "\n"
     ]
    }
   ],
   "source": [
    "cons3 = (ag95_prima\n",
    ".select(\"request\")\n",
    ".groupBy(\"request\")\n",
    ".count()\n",
    ".orderBy(\"count\", descending=False))\n",
    "cons3.show()"
   ]
  },
  {
   "cell_type": "code",
   "execution_count": 53,
   "id": "aa5cc98e",
   "metadata": {},
   "outputs": [
    {
     "name": "stdout",
     "output_type": "stream",
     "text": [
      "+------------------------------------+-----+\n",
      "|resource                            |count|\n",
      "+------------------------------------+-----+\n",
      "|/cgi-bin/imagemap/countdown70?75,222|1    |\n",
      "+------------------------------------+-----+\n",
      "only showing top 1 row\n",
      "\n"
     ]
    }
   ],
   "source": [
    "cons4 = (ag95_prima\n",
    ".groupBy(\"resource\")\n",
    ".count()\n",
    ".orderBy(\"count\", descending=False))\n",
    "cons4.show(1, False)"
   ]
  },
  {
   "cell_type": "code",
   "execution_count": 54,
   "id": "f189ac49",
   "metadata": {},
   "outputs": [
    {
     "name": "stdout",
     "output_type": "stream",
     "text": [
      "+----------------+---+-----+-------+-------+-------+-----------------+--------+----------------+----+\n",
      "|host            |day|hours|minutes|seconds|request|resource         |protocol|http_status_code|size|\n",
      "+----------------+---+-----+-------+-------+-------+-----------------+--------+----------------+----+\n",
      "|jsanz.agr.upv.es|30 |06   |23     |29     |GET    |/shuttle/missions|HTTP/1.0|302             |    |\n",
      "+----------------+---+-----+-------+-------+-------+-----------------+--------+----------------+----+\n",
      "only showing top 1 row\n",
      "\n"
     ]
    }
   ],
   "source": [
    "cons5 = (ag95_prima\n",
    ".orderBy(\"size\", descending=False))\n",
    "cons5.show(1, False)"
   ]
  },
  {
   "cell_type": "code",
   "execution_count": 55,
   "id": "9fa5e8ba",
   "metadata": {},
   "outputs": [
    {
     "name": "stdout",
     "output_type": "stream",
     "text": [
      "+---+-----+\n",
      "|day|count|\n",
      "+---+-----+\n",
      "|   |67   |\n",
      "|26 |31608|\n",
      "|05 |31893|\n",
      "+---+-----+\n",
      "only showing top 3 rows\n",
      "\n"
     ]
    }
   ],
   "source": [
    "cons6 = (ag95_prima\n",
    ".select(\"day\")\n",
    ".groupBy(\"day\")\n",
    ".count()\n",
    ".orderBy(\"count\", descending=False))\n",
    "cons6.show(3, False)"
   ]
  },
  {
   "cell_type": "code",
   "execution_count": 56,
   "id": "c8478ae1",
   "metadata": {},
   "outputs": [
    {
     "name": "stdout",
     "output_type": "stream",
     "text": [
      "+----------------------------+-----+\n",
      "|host                        |count|\n",
      "+----------------------------+-----+\n",
      "|dialup-69.werple.mira.net.au|1    |\n",
      "|paul.hip.cam.org            |1    |\n",
      "|hopsden.lib.csufresno.edu   |1    |\n",
      "|140.90.23.106               |1    |\n",
      "|cat30.slis.uwo.ca           |1    |\n",
      "+----------------------------+-----+\n",
      "only showing top 5 rows\n",
      "\n"
     ]
    }
   ],
   "source": [
    "cons7 = (ag95_prima\n",
    ".select(\"host\")\n",
    ".groupBy(\"host\")\n",
    ".count()\n",
    ".orderBy(\"count\", descending=False))\n",
    "cons7.show(5, False)"
   ]
  },
  {
   "cell_type": "code",
   "execution_count": 57,
   "id": "f019fb88",
   "metadata": {},
   "outputs": [
    {
     "name": "stdout",
     "output_type": "stream",
     "text": [
      "+-----+-----+\n",
      "|hours|count|\n",
      "+-----+-----+\n",
      "|     |67   |\n",
      "|04   |26755|\n",
      "|05   |27586|\n",
      "|03   |29993|\n",
      "|06   |31287|\n",
      "+-----+-----+\n",
      "only showing top 5 rows\n",
      "\n"
     ]
    }
   ],
   "source": [
    "cons8 = (ag95_prima\n",
    ".select(\"hours\")\n",
    ".groupBy(\"hours\")\n",
    ".count()\n",
    ".orderBy(\"count\", descending=False))\n",
    "cons8.show(5, False)"
   ]
  },
  {
   "cell_type": "code",
   "execution_count": 66,
   "id": "b768c5dd",
   "metadata": {},
   "outputs": [
    {
     "name": "stdout",
     "output_type": "stream",
     "text": [
      "+---+-----+\n",
      "|day|count|\n",
      "+---+-----+\n",
      "| 01|  243|\n",
      "| 03|  304|\n",
      "| 04|  344|\n",
      "| 05|  236|\n",
      "| 06|  373|\n",
      "| 07|  537|\n",
      "| 08|  391|\n",
      "| 09|  279|\n",
      "| 10|  315|\n",
      "| 11|  263|\n",
      "| 12|  196|\n",
      "| 13|  216|\n",
      "| 14|  287|\n",
      "| 15|  327|\n",
      "| 16|  259|\n",
      "| 17|  270|\n",
      "| 18|  256|\n",
      "| 19|  208|\n",
      "| 20|  312|\n",
      "| 21|  305|\n",
      "| 22|  288|\n",
      "| 23|  345|\n",
      "| 24|  420|\n",
      "| 25|  415|\n",
      "| 26|  366|\n",
      "| 27|  370|\n",
      "| 28|  410|\n",
      "| 29|  420|\n",
      "| 30|  571|\n",
      "| 31|  526|\n",
      "+---+-----+\n",
      "\n"
     ]
    }
   ],
   "source": [
    "cons9 = (ag95_prima\n",
    ".select(\"day\")\n",
    ".where(col(\"http_status_code\") == \"404\")\n",
    ".groupBy(\"day\")\n",
    ".count()\n",
    ".orderBy(\"day\"))\n",
    "cons9.show(31)"
   ]
  },
  {
   "cell_type": "markdown",
   "id": "73f884a8",
   "metadata": {},
   "source": [
    "\n"
   ]
  },
  {
   "cell_type": "markdown",
   "id": "9ee2a1fa",
   "metadata": {},
   "source": [
    "## Julio"
   ]
  },
  {
   "cell_type": "code",
   "execution_count": 49,
   "id": "f1957fcd",
   "metadata": {},
   "outputs": [],
   "source": [
    "jul95 = spark.read.text(\"C:/Users/nora.hafidi/Desktop/Big Data/NASA/NASA_access_log_Jul95/access_log_Jul95\")"
   ]
  },
  {
   "cell_type": "code",
   "execution_count": 50,
   "id": "2c4c3d69",
   "metadata": {},
   "outputs": [
    {
     "name": "stdout",
     "output_type": "stream",
     "text": [
      "+--------------------------------------------------------------------------------------------------------------------+\n",
      "|value                                                                                                               |\n",
      "+--------------------------------------------------------------------------------------------------------------------+\n",
      "|199.72.81.55 - - [01/Jul/1995:00:00:01 -0400] \"GET /history/apollo/ HTTP/1.0\" 200 6245                              |\n",
      "|unicomp6.unicomp.net - - [01/Jul/1995:00:00:06 -0400] \"GET /shuttle/countdown/ HTTP/1.0\" 200 3985                   |\n",
      "|199.120.110.21 - - [01/Jul/1995:00:00:09 -0400] \"GET /shuttle/missions/sts-73/mission-sts-73.html HTTP/1.0\" 200 4085|\n",
      "+--------------------------------------------------------------------------------------------------------------------+\n",
      "only showing top 3 rows\n",
      "\n"
     ]
    }
   ],
   "source": [
    "jul95.show(3, False)"
   ]
  },
  {
   "cell_type": "code",
   "execution_count": 60,
   "id": "40616144",
   "metadata": {},
   "outputs": [],
   "source": [
    "from pyspark.sql.functions import regexp_extract\n",
    "jul95_prima = jul95.select(regexp_extract(\"value\", expresion, 1).alias(\"host\"),\n",
    "                         regexp_extract(\"value\", expresion, 2).alias(\"day\"),\n",
    "                         regexp_extract(\"value\", expresion, 3).alias(\"hours\"),\n",
    "                         regexp_extract(\"value\", expresion, 4).alias(\"minutes\"),\n",
    "                         regexp_extract(\"value\", expresion, 5).alias(\"seconds\"),\n",
    "                         regexp_extract(\"value\", expresion, 6).alias(\"request\"),\n",
    "                         regexp_extract(\"value\", expresion, 7).alias(\"resource\"),\n",
    "                         regexp_extract(\"value\", expresion, 8).alias(\"protocol\"),\n",
    "                         regexp_extract(\"value\", expresion, 9).alias(\"http_status_code\"),\n",
    "                         regexp_extract(\"value\", expresion, 10).alias(\"size\"),         \n",
    "                        )"
   ]
  },
  {
   "cell_type": "code",
   "execution_count": 61,
   "id": "cd1a0a16",
   "metadata": {},
   "outputs": [
    {
     "name": "stdout",
     "output_type": "stream",
     "text": [
      "+--------------------+---+-----+-------+-------+-------+--------------------+--------+----------------+-----+\n",
      "|                host|day|hours|minutes|seconds|request|            resource|protocol|http_status_code| size|\n",
      "+--------------------+---+-----+-------+-------+-------+--------------------+--------+----------------+-----+\n",
      "|        199.72.81.55| 01|   00|     00|     01|    GET|    /history/apollo/|HTTP/1.0|             200| 6245|\n",
      "|unicomp6.unicomp.net| 01|   00|     00|     06|    GET| /shuttle/countdown/|HTTP/1.0|             200| 3985|\n",
      "|      199.120.110.21| 01|   00|     00|     09|    GET|/shuttle/missions...|HTTP/1.0|             200| 4085|\n",
      "|  burger.letters.com| 01|   00|     00|     11|    GET|/shuttle/countdow...|HTTP/1.0|             304|    0|\n",
      "|      199.120.110.21| 01|   00|     00|     11|    GET|/shuttle/missions...|HTTP/1.0|             200| 4179|\n",
      "|  burger.letters.com| 01|   00|     00|     12|    GET|/images/NASA-logo...|HTTP/1.0|             304|    0|\n",
      "|  burger.letters.com| 01|   00|     00|     12|    GET|/shuttle/countdow...|HTTP/1.0|             200|    0|\n",
      "|     205.212.115.106| 01|   00|     00|     12|    GET|/shuttle/countdow...|HTTP/1.0|             200| 3985|\n",
      "|         d104.aa.net| 01|   00|     00|     13|    GET| /shuttle/countdown/|HTTP/1.0|             200| 3985|\n",
      "|      129.94.144.152| 01|   00|     00|     13|    GET|                   /|HTTP/1.0|             200| 7074|\n",
      "|unicomp6.unicomp.net| 01|   00|     00|     14|    GET|/shuttle/countdow...|HTTP/1.0|             200|40310|\n",
      "|unicomp6.unicomp.net| 01|   00|     00|     14|    GET|/images/NASA-logo...|HTTP/1.0|             200|  786|\n",
      "|unicomp6.unicomp.net| 01|   00|     00|     14|    GET|/images/KSC-logos...|HTTP/1.0|             200| 1204|\n",
      "|         d104.aa.net| 01|   00|     00|     15|    GET|/shuttle/countdow...|HTTP/1.0|             200|40310|\n",
      "|         d104.aa.net| 01|   00|     00|     15|    GET|/images/NASA-logo...|HTTP/1.0|             200|  786|\n",
      "|         d104.aa.net| 01|   00|     00|     15|    GET|/images/KSC-logos...|HTTP/1.0|             200| 1204|\n",
      "|      129.94.144.152| 01|   00|     00|     17|    GET|/images/ksclogo-m...|HTTP/1.0|             304|    0|\n",
      "|      199.120.110.21| 01|   00|     00|     17|    GET|/images/launch-lo...|HTTP/1.0|             200| 1713|\n",
      "|ppptky391.asahi-n...| 01|   00|     00|     18|    GET|/facts/about_ksc....|HTTP/1.0|             200| 3977|\n",
      "|  net-1-141.eden.com| 01|   00|     00|     19|    GET|/shuttle/missions...|HTTP/1.0|             200|34029|\n",
      "+--------------------+---+-----+-------+-------+-------+--------------------+--------+----------------+-----+\n",
      "only showing top 20 rows\n",
      "\n"
     ]
    }
   ],
   "source": [
    "jul95_prima.show()"
   ]
  },
  {
   "cell_type": "code",
   "execution_count": 62,
   "id": "96693cd0",
   "metadata": {},
   "outputs": [
    {
     "data": {
      "text/plain": [
       "13"
      ]
     },
     "execution_count": 62,
     "metadata": {},
     "output_type": "execute_result"
    }
   ],
   "source": [
    "nulls_h_j = (jul95_prima\n",
    ".select(\"http_status_code\")\n",
    ".where(col(\"http_status_code\") == '')\n",
    ".count())\n",
    "nulls_h_j"
   ]
  },
  {
   "cell_type": "code",
   "execution_count": 68,
   "id": "3c917d1a",
   "metadata": {},
   "outputs": [
    {
     "name": "stdout",
     "output_type": "stream",
     "text": [
      "+--------------------+-------+\n",
      "|            protocol|  count|\n",
      "+--------------------+-------+\n",
      "|HTTP/1.0From:  <b...|    611|\n",
      "|              HTTP/*|     13|\n",
      "|           HTTP/1.0 |     15|\n",
      "|           HTTP/V1.0|    116|\n",
      "|            HTTP/1.0|1887956|\n",
      "+--------------------+-------+\n",
      "\n"
     ]
    }
   ],
   "source": [
    "cons1_j = (jul95_prima\n",
    ".select(\"protocol\")\n",
    ".where(col(\"protocol\") != \"\")\n",
    ".groupBy(\"protocol\")\n",
    ".count())\n",
    "#cons1.show(False)\n",
    "cons1_j.show()"
   ]
  },
  {
   "cell_type": "code",
   "execution_count": 69,
   "id": "9d500536",
   "metadata": {},
   "outputs": [
    {
     "name": "stdout",
     "output_type": "stream",
     "text": [
      "+----------------+-------+\n",
      "|http_status_code|  count|\n",
      "+----------------+-------+\n",
      "|                |     13|\n",
      "|             501|     14|\n",
      "|             403|     54|\n",
      "|             500|     62|\n",
      "|             404|  10840|\n",
      "|             302|  46571|\n",
      "|             304| 132627|\n",
      "|             200|1701534|\n",
      "+----------------+-------+\n",
      "\n"
     ]
    }
   ],
   "source": [
    "cons2_j = (jul95_prima\n",
    ".select(\"http_status_code\")\n",
    ".groupBy(\"http_status_code\")\n",
    ".count()\n",
    ".orderBy(\"count\", descending=False))\n",
    "cons2_j.show()"
   ]
  },
  {
   "cell_type": "code",
   "execution_count": 67,
   "id": "5ee6f101",
   "metadata": {},
   "outputs": [
    {
     "name": "stdout",
     "output_type": "stream",
     "text": [
      "+-------+-------+\n",
      "|request|  count|\n",
      "+-------+-------+\n",
      "|       |     13|\n",
      "|   POST|    111|\n",
      "|   HEAD|   3952|\n",
      "|    GET|1887639|\n",
      "+-------+-------+\n",
      "\n"
     ]
    }
   ],
   "source": [
    "cons3_j = (jul95_prima\n",
    ".select(\"request\")\n",
    ".groupBy(\"request\")\n",
    ".count()\n",
    ".orderBy(\"count\", descending=False))\n",
    "cons3_j.show()"
   ]
  },
  {
   "cell_type": "code",
   "execution_count": 70,
   "id": "2a2fec7b",
   "metadata": {},
   "outputs": [
    {
     "name": "stdout",
     "output_type": "stream",
     "text": [
      "+-----------------------------------+-----+\n",
      "|resource                           |count|\n",
      "+-----------------------------------+-----+\n",
      "|/cgi-bin/imagemap/astrohome?247,271|1    |\n",
      "+-----------------------------------+-----+\n",
      "only showing top 1 row\n",
      "\n"
     ]
    }
   ],
   "source": [
    "cons4_j = (jul95_prima\n",
    ".groupBy(\"resource\")\n",
    ".count()\n",
    ".orderBy(\"count\", descending=False))\n",
    "cons4_j.show(1, False)"
   ]
  },
  {
   "cell_type": "code",
   "execution_count": 72,
   "id": "4e476528",
   "metadata": {},
   "outputs": [
    {
     "name": "stdout",
     "output_type": "stream",
     "text": [
      "+-------------+---+-----+-------+-------+-------+---------------------+--------+----------------+----+\n",
      "|host         |day|hours|minutes|seconds|request|resource             |protocol|http_status_code|size|\n",
      "+-------------+---+-----+-------+-------+-------+---------------------+--------+----------------+----+\n",
      "|malibu.sfu.ca|25 |04   |43     |26     |GET    |/pub/winvn/readme.txt|HTTP/1.0|404             |    |\n",
      "+-------------+---+-----+-------+-------+-------+---------------------+--------+----------------+----+\n",
      "only showing top 1 row\n",
      "\n"
     ]
    }
   ],
   "source": [
    "cons5_j = (jul95_prima\n",
    ".orderBy(\"size\", descending=False))\n",
    "cons5_j.show(1, False)"
   ]
  },
  {
   "cell_type": "code",
   "execution_count": 73,
   "id": "9653c7dc",
   "metadata": {},
   "outputs": [
    {
     "name": "stdout",
     "output_type": "stream",
     "text": [
      "+---+-----+\n",
      "|day|count|\n",
      "+---+-----+\n",
      "|   |13   |\n",
      "|28 |27121|\n",
      "|22 |35267|\n",
      "+---+-----+\n",
      "only showing top 3 rows\n",
      "\n"
     ]
    }
   ],
   "source": [
    "cons6_j = (jul95_prima\n",
    ".select(\"day\")\n",
    ".groupBy(\"day\")\n",
    ".count()\n",
    ".orderBy(\"count\", descending=False))\n",
    "cons6_j.show(3, False)"
   ]
  },
  {
   "cell_type": "code",
   "execution_count": 74,
   "id": "93a4f96c",
   "metadata": {},
   "outputs": [
    {
     "name": "stdout",
     "output_type": "stream",
     "text": [
      "+----------------------------+-----+\n",
      "|host                        |count|\n",
      "+----------------------------+-----+\n",
      "|137.82.222.221              |1    |\n",
      "|flow.infotech.tu-chemnitz.de|1    |\n",
      "|202.49.243.63               |1    |\n",
      "|owl.ins.cwru.edu            |1    |\n",
      "|ppp-103.magg.net            |1    |\n",
      "+----------------------------+-----+\n",
      "only showing top 5 rows\n",
      "\n"
     ]
    }
   ],
   "source": [
    "cons7_j = (jul95_prima\n",
    ".select(\"host\")\n",
    ".groupBy(\"host\")\n",
    ".count()\n",
    ".orderBy(\"count\", descending=False))\n",
    "cons7_j.show(5, False)"
   ]
  },
  {
   "cell_type": "code",
   "execution_count": 75,
   "id": "d5436726",
   "metadata": {},
   "outputs": [
    {
     "name": "stdout",
     "output_type": "stream",
     "text": [
      "+-----+-----+\n",
      "|hours|count|\n",
      "+-----+-----+\n",
      "|     |13   |\n",
      "|05   |31919|\n",
      "|04   |32234|\n",
      "|06   |35253|\n",
      "|03   |37398|\n",
      "+-----+-----+\n",
      "only showing top 5 rows\n",
      "\n"
     ]
    }
   ],
   "source": [
    "cons8_j = (jul95_prima\n",
    ".select(\"hours\")\n",
    ".groupBy(\"hours\")\n",
    ".count()\n",
    ".orderBy(\"count\", descending=False))\n",
    "cons8_j.show(5, False)"
   ]
  },
  {
   "cell_type": "code",
   "execution_count": 76,
   "id": "c5ecec95",
   "metadata": {},
   "outputs": [
    {
     "name": "stdout",
     "output_type": "stream",
     "text": [
      "+---+-----+\n",
      "|day|count|\n",
      "+---+-----+\n",
      "| 01|  315|\n",
      "| 02|  290|\n",
      "| 03|  474|\n",
      "| 04|  359|\n",
      "| 05|  497|\n",
      "| 06|  640|\n",
      "| 07|  570|\n",
      "| 08|  302|\n",
      "| 09|  348|\n",
      "| 10|  398|\n",
      "| 11|  471|\n",
      "| 12|  470|\n",
      "| 13|  531|\n",
      "| 14|  413|\n",
      "| 15|  254|\n",
      "| 16|  257|\n",
      "| 17|  406|\n",
      "| 18|  465|\n",
      "| 19|  639|\n",
      "| 20|  428|\n",
      "| 21|  334|\n",
      "| 22|  192|\n",
      "| 23|  233|\n",
      "| 24|  328|\n",
      "| 25|  461|\n",
      "| 26|  335|\n",
      "| 27|  336|\n",
      "| 28|   94|\n",
      "+---+-----+\n",
      "\n"
     ]
    }
   ],
   "source": [
    "cons9_j = (jul95_prima\n",
    ".select(\"day\")\n",
    ".where(col(\"http_status_code\") == \"404\")\n",
    ".groupBy(\"day\")\n",
    ".count()\n",
    ".orderBy(\"day\"))\n",
    "cons9_j.show(31)"
   ]
  }
 ],
 "metadata": {
  "kernelspec": {
   "display_name": "Python 3 (ipykernel)",
   "language": "python",
   "name": "python3"
  },
  "language_info": {
   "codemirror_mode": {
    "name": "ipython",
    "version": 3
   },
   "file_extension": ".py",
   "mimetype": "text/x-python",
   "name": "python",
   "nbconvert_exporter": "python",
   "pygments_lexer": "ipython3",
   "version": "3.9.7"
  }
 },
 "nbformat": 4,
 "nbformat_minor": 5
}
